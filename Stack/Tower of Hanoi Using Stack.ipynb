{
 "cells": [
  {
   "cell_type": "markdown",
   "metadata": {},
   "source": [
    "# Tower of Hanoi Using Stack\n",
    "The goal of this program is to create a non-recursive Python function to print out the steps to move all the disks from rod A to rod C via rod B."
   ]
  },
  {
   "cell_type": "markdown",
   "metadata": {},
   "source": [
    "## Overview"
   ]
  },
  {
   "cell_type": "markdown",
   "metadata": {},
   "source": [
    "![Tower of Hanoi](https://github.com/richardcsuwandi/data-structures-and-algorithms/blob/master/images/tower-of-hanoi.png?raw=true)"
   ]
  },
  {
   "cell_type": "markdown",
   "metadata": {},
   "source": [
    "Tower of Hanoi is a mathematical puzzle that consists of three rods and a number of disks of different sizes, which can slide onto any rod. The puzzle starts with the disks in a neat stack in ascending order of size on one rod, the smallest at the top, thus making a conical shape.\n",
    "\n",
    "The objective of the puzzle is to move the entire stack to another rod, obeying the following simple rules:\n",
    "- Only one disk can be moved at a time.\n",
    "- Each move consists of taking the upper disk from one of the stacks and placing it on top of another stack or on an empty rod.\n",
    "- No larger disk may be placed on top of a smaller disk.\n",
    "\n",
    "The minimal number of moves required to solve a Tower of Hanoi puzzle is 2<sup>n</sup> − 1, where n is the number of disks.\n",
    "\n",
    "More about Tower of Hanoi: https://en.wikipedia.org/wiki/Tower_of_Hanoi"
   ]
  },
  {
   "cell_type": "markdown",
   "metadata": {},
   "source": [
    "## Implementation\n",
    "We can use the Stack class from [Stack.py](https://github.com/richardcsuwandi/data-structures-and-algorithms/blob/master/Stack/Stack.py) to implement our non-recursive function for solving a Tower of Hanoi with *n* disks.\n",
    "\n",
    "Note: n must be an integer that is greater or equal to 1."
   ]
  },
  {
   "cell_type": "code",
   "execution_count": 20,
   "metadata": {},
   "outputs": [],
   "source": [
    "from Stack import Stack\n",
    "\n",
    "def tower_of_hanoi(n):\n",
    "    \"\"\"Prints out the steps to move all the disks from rod A to rod C via rod B\"\"\"\n",
    "    num_of_steps = 2**n - 1\n",
    "    tower = Stack()\n",
    "    tower.push((n, \"A\", \"B\", \"C\"))\n",
    "    while not tower.is_empty():\n",
    "        (n, A, B, C) = tower.pop()  # Stores the popped element as a tuple\n",
    "        if n == 1:\n",
    "            print(f\"{A} --> {C}\")  # Prints the step from the starting rod to the destination rod\n",
    "        else:\n",
    "            tower.push((n-1, B, A, C))\n",
    "            tower.push((1, A, B, C))\n",
    "            tower.push((n-1, A, C, B))\n",
    "            \n",
    "    print(f\"The number of steps: {num_of_steps}\")"
   ]
  },
  {
   "cell_type": "markdown",
   "metadata": {},
   "source": [
    "## Sample Output\n",
    "Here are some sample outputs for solving Tower of Hanoi with *n* disks using our function:"
   ]
  },
  {
   "cell_type": "code",
   "execution_count": 21,
   "metadata": {},
   "outputs": [
    {
     "name": "stdout",
     "output_type": "stream",
     "text": [
      "A --> C\n",
      "The number of steps: 1\n"
     ]
    }
   ],
   "source": [
    "# For n = 1\n",
    "tower_of_hanoi(1)"
   ]
  },
  {
   "cell_type": "code",
   "execution_count": 22,
   "metadata": {},
   "outputs": [
    {
     "name": "stdout",
     "output_type": "stream",
     "text": [
      "A --> B\n",
      "A --> C\n",
      "B --> C\n",
      "The number of steps: 3\n"
     ]
    }
   ],
   "source": [
    "# For n = 2\n",
    "tower_of_hanoi(2)"
   ]
  },
  {
   "cell_type": "code",
   "execution_count": 23,
   "metadata": {},
   "outputs": [
    {
     "name": "stdout",
     "output_type": "stream",
     "text": [
      "A --> C\n",
      "A --> B\n",
      "C --> B\n",
      "A --> C\n",
      "B --> A\n",
      "B --> C\n",
      "A --> C\n",
      "The number of steps: 7\n"
     ]
    }
   ],
   "source": [
    "# For n = 3\n",
    "tower_of_hanoi(3)"
   ]
  }
 ],
 "metadata": {
  "kernelspec": {
   "display_name": "Python 3.7.4 64-bit ('base': conda)",
   "language": "python",
   "name": "python37464bitbasecondae4d1925b83da41c78817766fdb596e37"
  },
  "language_info": {
   "codemirror_mode": {
    "name": "ipython",
    "version": 3
   },
   "file_extension": ".py",
   "mimetype": "text/x-python",
   "name": "python",
   "nbconvert_exporter": "python",
   "pygments_lexer": "ipython3",
   "version": "3.7.7"
  }
 },
 "nbformat": 4,
 "nbformat_minor": 4
}
