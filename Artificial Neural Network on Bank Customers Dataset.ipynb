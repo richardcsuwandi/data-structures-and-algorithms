{
  "nbformat": 4,
  "nbformat_minor": 0,
  "metadata": {
    "colab": {
      "name": "Artificial Neural Network on Bank Customers Dataset.ipynb",
      "provenance": [],
      "collapsed_sections": [],
      "authorship_tag": "ABX9TyMb8+Nx+3YE5BltIeh+oZ3n",
      "include_colab_link": true
    },
    "kernelspec": {
      "name": "python3",
      "display_name": "Python 3"
    }
  },
  "cells": [
    {
      "cell_type": "markdown",
      "metadata": {
        "id": "view-in-github",
        "colab_type": "text"
      },
      "source": [
        "<a href=\"https://colab.research.google.com/github/richardcsuwandi/data-structures-and-algorithms/blob/master/Artificial%20Neural%20Network%20on%20Bank%20Customers%20Dataset.ipynb\" target=\"_parent\"><img src=\"https://colab.research.google.com/assets/colab-badge.svg\" alt=\"Open In Colab\"/></a>"
      ]
    },
    {
      "cell_type": "markdown",
      "metadata": {
        "id": "jjeIpGi8oV-d",
        "colab_type": "text"
      },
      "source": [
        "# Artificial Neural Network on Bank Customers Dataset\n",
        "\n",
        "This project is one of my Deep Learning projects. For this project, we have a [bank customers](https://github.com/richardcsuwandi/datasets/blob/master/bank_customers.csv) dataset that consists of a randomly sampled population of a banking customers detailing demographics and whether a customer left (or stayed at) the bank within the last 6 months.\n",
        "\n",
        "The goal of this project is create an Artificial Neural Network (ANN) model to classifiy whether a customer will stay or leave from the bank."
      ]
    },
    {
      "cell_type": "code",
      "metadata": {
        "id": "Qoe8pvBjm_eC",
        "colab_type": "code",
        "colab": {
          "base_uri": "https://localhost:8080/",
          "height": 89
        },
        "outputId": "e235f9cc-6e09-45f8-d45c-3e29d19b17d6"
      },
      "source": [
        "# Import the libraries\n",
        "import numpy as np\n",
        "import pandas as pd\n",
        "from sklearn.preprocessing import StandardScaler\n",
        "from sklearn.model_selection import train_test_split\n",
        "from sklearn.metrics import confusion_matrix\n",
        "\n",
        "import keras\n",
        "from keras.models import Sequential\n",
        "from keras.layers import Dense\n",
        "\n",
        "import matplotlib.pyplot as plt\n",
        "import seaborn as sns\n",
        "%matplotlib inline"
      ],
      "execution_count": 1,
      "outputs": [
        {
          "output_type": "stream",
          "text": [
            "Using TensorFlow backend.\n",
            "/usr/local/lib/python3.6/dist-packages/statsmodels/tools/_testing.py:19: FutureWarning: pandas.util.testing is deprecated. Use the functions in the public API at pandas.testing instead.\n",
            "  import pandas.util.testing as tm\n"
          ],
          "name": "stderr"
        }
      ]
    },
    {
      "cell_type": "markdown",
      "metadata": {
        "id": "JJ47MPoBqILK",
        "colab_type": "text"
      },
      "source": [
        "## Loading the Data\n",
        "First, we need to load the data from the `bank_customers.csv` file and convert it into a Pandas DataFrame."
      ]
    },
    {
      "cell_type": "code",
      "metadata": {
        "id": "0CM8zOronwdf",
        "colab_type": "code",
        "colab": {
          "base_uri": "https://localhost:8080/",
          "height": 222
        },
        "outputId": "2cc7c192-ffd5-4f98-c06a-b725a585b072"
      },
      "source": [
        "# Import the data\n",
        "path = 'https://raw.githubusercontent.com/richardcsuwandi/datasets/master/bank_customers.csv'\n",
        "data_raw = pd.read_csv(path)\n",
        "\n",
        "# View the first 5 observations of the data\n",
        "data_raw.head()"
      ],
      "execution_count": 2,
      "outputs": [
        {
          "output_type": "execute_result",
          "data": {
            "text/html": [
              "<div>\n",
              "<style scoped>\n",
              "    .dataframe tbody tr th:only-of-type {\n",
              "        vertical-align: middle;\n",
              "    }\n",
              "\n",
              "    .dataframe tbody tr th {\n",
              "        vertical-align: top;\n",
              "    }\n",
              "\n",
              "    .dataframe thead th {\n",
              "        text-align: right;\n",
              "    }\n",
              "</style>\n",
              "<table border=\"1\" class=\"dataframe\">\n",
              "  <thead>\n",
              "    <tr style=\"text-align: right;\">\n",
              "      <th></th>\n",
              "      <th>RowNumber</th>\n",
              "      <th>CustomerId</th>\n",
              "      <th>Surname</th>\n",
              "      <th>CreditScore</th>\n",
              "      <th>Geography</th>\n",
              "      <th>Gender</th>\n",
              "      <th>Age</th>\n",
              "      <th>Tenure</th>\n",
              "      <th>Balance</th>\n",
              "      <th>NumOfProducts</th>\n",
              "      <th>HasCrCard</th>\n",
              "      <th>IsActiveMember</th>\n",
              "      <th>EstimatedSalary</th>\n",
              "      <th>Exited</th>\n",
              "    </tr>\n",
              "  </thead>\n",
              "  <tbody>\n",
              "    <tr>\n",
              "      <th>0</th>\n",
              "      <td>1</td>\n",
              "      <td>15634602</td>\n",
              "      <td>Hargrave</td>\n",
              "      <td>619</td>\n",
              "      <td>France</td>\n",
              "      <td>Female</td>\n",
              "      <td>42</td>\n",
              "      <td>2</td>\n",
              "      <td>0.00</td>\n",
              "      <td>1</td>\n",
              "      <td>1</td>\n",
              "      <td>1</td>\n",
              "      <td>101348.88</td>\n",
              "      <td>1</td>\n",
              "    </tr>\n",
              "    <tr>\n",
              "      <th>1</th>\n",
              "      <td>2</td>\n",
              "      <td>15647311</td>\n",
              "      <td>Hill</td>\n",
              "      <td>608</td>\n",
              "      <td>Spain</td>\n",
              "      <td>Female</td>\n",
              "      <td>41</td>\n",
              "      <td>1</td>\n",
              "      <td>83807.86</td>\n",
              "      <td>1</td>\n",
              "      <td>0</td>\n",
              "      <td>1</td>\n",
              "      <td>112542.58</td>\n",
              "      <td>0</td>\n",
              "    </tr>\n",
              "    <tr>\n",
              "      <th>2</th>\n",
              "      <td>3</td>\n",
              "      <td>15619304</td>\n",
              "      <td>Onio</td>\n",
              "      <td>502</td>\n",
              "      <td>France</td>\n",
              "      <td>Female</td>\n",
              "      <td>42</td>\n",
              "      <td>8</td>\n",
              "      <td>159660.80</td>\n",
              "      <td>3</td>\n",
              "      <td>1</td>\n",
              "      <td>0</td>\n",
              "      <td>113931.57</td>\n",
              "      <td>1</td>\n",
              "    </tr>\n",
              "    <tr>\n",
              "      <th>3</th>\n",
              "      <td>4</td>\n",
              "      <td>15701354</td>\n",
              "      <td>Boni</td>\n",
              "      <td>699</td>\n",
              "      <td>France</td>\n",
              "      <td>Female</td>\n",
              "      <td>39</td>\n",
              "      <td>1</td>\n",
              "      <td>0.00</td>\n",
              "      <td>2</td>\n",
              "      <td>0</td>\n",
              "      <td>0</td>\n",
              "      <td>93826.63</td>\n",
              "      <td>0</td>\n",
              "    </tr>\n",
              "    <tr>\n",
              "      <th>4</th>\n",
              "      <td>5</td>\n",
              "      <td>15737888</td>\n",
              "      <td>Mitchell</td>\n",
              "      <td>850</td>\n",
              "      <td>Spain</td>\n",
              "      <td>Female</td>\n",
              "      <td>43</td>\n",
              "      <td>2</td>\n",
              "      <td>125510.82</td>\n",
              "      <td>1</td>\n",
              "      <td>1</td>\n",
              "      <td>1</td>\n",
              "      <td>79084.10</td>\n",
              "      <td>0</td>\n",
              "    </tr>\n",
              "  </tbody>\n",
              "</table>\n",
              "</div>"
            ],
            "text/plain": [
              "   RowNumber  CustomerId   Surname  ...  IsActiveMember EstimatedSalary Exited\n",
              "0          1    15634602  Hargrave  ...               1       101348.88      1\n",
              "1          2    15647311      Hill  ...               1       112542.58      0\n",
              "2          3    15619304      Onio  ...               0       113931.57      1\n",
              "3          4    15701354      Boni  ...               0        93826.63      0\n",
              "4          5    15737888  Mitchell  ...               1        79084.10      0\n",
              "\n",
              "[5 rows x 14 columns]"
            ]
          },
          "metadata": {
            "tags": []
          },
          "execution_count": 2
        }
      ]
    },
    {
      "cell_type": "code",
      "metadata": {
        "id": "FOdh6Me0n6rN",
        "colab_type": "code",
        "colab": {
          "base_uri": "https://localhost:8080/",
          "height": 406
        },
        "outputId": "beeb1978-8a37-41be-b700-ca70a0018b0b"
      },
      "source": [
        "# View a more detailed summary of the data\n",
        "data_raw.describe(include='all')"
      ],
      "execution_count": 3,
      "outputs": [
        {
          "output_type": "execute_result",
          "data": {
            "text/html": [
              "<div>\n",
              "<style scoped>\n",
              "    .dataframe tbody tr th:only-of-type {\n",
              "        vertical-align: middle;\n",
              "    }\n",
              "\n",
              "    .dataframe tbody tr th {\n",
              "        vertical-align: top;\n",
              "    }\n",
              "\n",
              "    .dataframe thead th {\n",
              "        text-align: right;\n",
              "    }\n",
              "</style>\n",
              "<table border=\"1\" class=\"dataframe\">\n",
              "  <thead>\n",
              "    <tr style=\"text-align: right;\">\n",
              "      <th></th>\n",
              "      <th>RowNumber</th>\n",
              "      <th>CustomerId</th>\n",
              "      <th>Surname</th>\n",
              "      <th>CreditScore</th>\n",
              "      <th>Geography</th>\n",
              "      <th>Gender</th>\n",
              "      <th>Age</th>\n",
              "      <th>Tenure</th>\n",
              "      <th>Balance</th>\n",
              "      <th>NumOfProducts</th>\n",
              "      <th>HasCrCard</th>\n",
              "      <th>IsActiveMember</th>\n",
              "      <th>EstimatedSalary</th>\n",
              "      <th>Exited</th>\n",
              "    </tr>\n",
              "  </thead>\n",
              "  <tbody>\n",
              "    <tr>\n",
              "      <th>count</th>\n",
              "      <td>10000.00000</td>\n",
              "      <td>1.000000e+04</td>\n",
              "      <td>10000</td>\n",
              "      <td>10000.000000</td>\n",
              "      <td>10000</td>\n",
              "      <td>10000</td>\n",
              "      <td>10000.000000</td>\n",
              "      <td>10000.000000</td>\n",
              "      <td>10000.000000</td>\n",
              "      <td>10000.000000</td>\n",
              "      <td>10000.00000</td>\n",
              "      <td>10000.000000</td>\n",
              "      <td>10000.000000</td>\n",
              "      <td>10000.000000</td>\n",
              "    </tr>\n",
              "    <tr>\n",
              "      <th>unique</th>\n",
              "      <td>NaN</td>\n",
              "      <td>NaN</td>\n",
              "      <td>2932</td>\n",
              "      <td>NaN</td>\n",
              "      <td>3</td>\n",
              "      <td>2</td>\n",
              "      <td>NaN</td>\n",
              "      <td>NaN</td>\n",
              "      <td>NaN</td>\n",
              "      <td>NaN</td>\n",
              "      <td>NaN</td>\n",
              "      <td>NaN</td>\n",
              "      <td>NaN</td>\n",
              "      <td>NaN</td>\n",
              "    </tr>\n",
              "    <tr>\n",
              "      <th>top</th>\n",
              "      <td>NaN</td>\n",
              "      <td>NaN</td>\n",
              "      <td>Smith</td>\n",
              "      <td>NaN</td>\n",
              "      <td>France</td>\n",
              "      <td>Male</td>\n",
              "      <td>NaN</td>\n",
              "      <td>NaN</td>\n",
              "      <td>NaN</td>\n",
              "      <td>NaN</td>\n",
              "      <td>NaN</td>\n",
              "      <td>NaN</td>\n",
              "      <td>NaN</td>\n",
              "      <td>NaN</td>\n",
              "    </tr>\n",
              "    <tr>\n",
              "      <th>freq</th>\n",
              "      <td>NaN</td>\n",
              "      <td>NaN</td>\n",
              "      <td>32</td>\n",
              "      <td>NaN</td>\n",
              "      <td>5014</td>\n",
              "      <td>5457</td>\n",
              "      <td>NaN</td>\n",
              "      <td>NaN</td>\n",
              "      <td>NaN</td>\n",
              "      <td>NaN</td>\n",
              "      <td>NaN</td>\n",
              "      <td>NaN</td>\n",
              "      <td>NaN</td>\n",
              "      <td>NaN</td>\n",
              "    </tr>\n",
              "    <tr>\n",
              "      <th>mean</th>\n",
              "      <td>5000.50000</td>\n",
              "      <td>1.569094e+07</td>\n",
              "      <td>NaN</td>\n",
              "      <td>650.528800</td>\n",
              "      <td>NaN</td>\n",
              "      <td>NaN</td>\n",
              "      <td>38.921800</td>\n",
              "      <td>5.012800</td>\n",
              "      <td>76485.889288</td>\n",
              "      <td>1.530200</td>\n",
              "      <td>0.70550</td>\n",
              "      <td>0.515100</td>\n",
              "      <td>100090.239881</td>\n",
              "      <td>0.203700</td>\n",
              "    </tr>\n",
              "    <tr>\n",
              "      <th>std</th>\n",
              "      <td>2886.89568</td>\n",
              "      <td>7.193619e+04</td>\n",
              "      <td>NaN</td>\n",
              "      <td>96.653299</td>\n",
              "      <td>NaN</td>\n",
              "      <td>NaN</td>\n",
              "      <td>10.487806</td>\n",
              "      <td>2.892174</td>\n",
              "      <td>62397.405202</td>\n",
              "      <td>0.581654</td>\n",
              "      <td>0.45584</td>\n",
              "      <td>0.499797</td>\n",
              "      <td>57510.492818</td>\n",
              "      <td>0.402769</td>\n",
              "    </tr>\n",
              "    <tr>\n",
              "      <th>min</th>\n",
              "      <td>1.00000</td>\n",
              "      <td>1.556570e+07</td>\n",
              "      <td>NaN</td>\n",
              "      <td>350.000000</td>\n",
              "      <td>NaN</td>\n",
              "      <td>NaN</td>\n",
              "      <td>18.000000</td>\n",
              "      <td>0.000000</td>\n",
              "      <td>0.000000</td>\n",
              "      <td>1.000000</td>\n",
              "      <td>0.00000</td>\n",
              "      <td>0.000000</td>\n",
              "      <td>11.580000</td>\n",
              "      <td>0.000000</td>\n",
              "    </tr>\n",
              "    <tr>\n",
              "      <th>25%</th>\n",
              "      <td>2500.75000</td>\n",
              "      <td>1.562853e+07</td>\n",
              "      <td>NaN</td>\n",
              "      <td>584.000000</td>\n",
              "      <td>NaN</td>\n",
              "      <td>NaN</td>\n",
              "      <td>32.000000</td>\n",
              "      <td>3.000000</td>\n",
              "      <td>0.000000</td>\n",
              "      <td>1.000000</td>\n",
              "      <td>0.00000</td>\n",
              "      <td>0.000000</td>\n",
              "      <td>51002.110000</td>\n",
              "      <td>0.000000</td>\n",
              "    </tr>\n",
              "    <tr>\n",
              "      <th>50%</th>\n",
              "      <td>5000.50000</td>\n",
              "      <td>1.569074e+07</td>\n",
              "      <td>NaN</td>\n",
              "      <td>652.000000</td>\n",
              "      <td>NaN</td>\n",
              "      <td>NaN</td>\n",
              "      <td>37.000000</td>\n",
              "      <td>5.000000</td>\n",
              "      <td>97198.540000</td>\n",
              "      <td>1.000000</td>\n",
              "      <td>1.00000</td>\n",
              "      <td>1.000000</td>\n",
              "      <td>100193.915000</td>\n",
              "      <td>0.000000</td>\n",
              "    </tr>\n",
              "    <tr>\n",
              "      <th>75%</th>\n",
              "      <td>7500.25000</td>\n",
              "      <td>1.575323e+07</td>\n",
              "      <td>NaN</td>\n",
              "      <td>718.000000</td>\n",
              "      <td>NaN</td>\n",
              "      <td>NaN</td>\n",
              "      <td>44.000000</td>\n",
              "      <td>7.000000</td>\n",
              "      <td>127644.240000</td>\n",
              "      <td>2.000000</td>\n",
              "      <td>1.00000</td>\n",
              "      <td>1.000000</td>\n",
              "      <td>149388.247500</td>\n",
              "      <td>0.000000</td>\n",
              "    </tr>\n",
              "    <tr>\n",
              "      <th>max</th>\n",
              "      <td>10000.00000</td>\n",
              "      <td>1.581569e+07</td>\n",
              "      <td>NaN</td>\n",
              "      <td>850.000000</td>\n",
              "      <td>NaN</td>\n",
              "      <td>NaN</td>\n",
              "      <td>92.000000</td>\n",
              "      <td>10.000000</td>\n",
              "      <td>250898.090000</td>\n",
              "      <td>4.000000</td>\n",
              "      <td>1.00000</td>\n",
              "      <td>1.000000</td>\n",
              "      <td>199992.480000</td>\n",
              "      <td>1.000000</td>\n",
              "    </tr>\n",
              "  </tbody>\n",
              "</table>\n",
              "</div>"
            ],
            "text/plain": [
              "          RowNumber    CustomerId  ... EstimatedSalary        Exited\n",
              "count   10000.00000  1.000000e+04  ...    10000.000000  10000.000000\n",
              "unique          NaN           NaN  ...             NaN           NaN\n",
              "top             NaN           NaN  ...             NaN           NaN\n",
              "freq            NaN           NaN  ...             NaN           NaN\n",
              "mean     5000.50000  1.569094e+07  ...   100090.239881      0.203700\n",
              "std      2886.89568  7.193619e+04  ...    57510.492818      0.402769\n",
              "min         1.00000  1.556570e+07  ...       11.580000      0.000000\n",
              "25%      2500.75000  1.562853e+07  ...    51002.110000      0.000000\n",
              "50%      5000.50000  1.569074e+07  ...   100193.915000      0.000000\n",
              "75%      7500.25000  1.575323e+07  ...   149388.247500      0.000000\n",
              "max     10000.00000  1.581569e+07  ...   199992.480000      1.000000\n",
              "\n",
              "[11 rows x 14 columns]"
            ]
          },
          "metadata": {
            "tags": []
          },
          "execution_count": 3
        }
      ]
    },
    {
      "cell_type": "markdown",
      "metadata": {
        "id": "UWQqU6IkqsVi",
        "colab_type": "text"
      },
      "source": [
        "## Preprocessing the Data\n",
        "As we can see above, we don't have any missing values in our data. However, there are some columns that might not be useful for building our model e.g `RowNumber`, `CustomerId`, and `Surname`."
      ]
    },
    {
      "cell_type": "code",
      "metadata": {
        "id": "IwJNkZJRoTj7",
        "colab_type": "code",
        "colab": {
          "base_uri": "https://localhost:8080/",
          "height": 202
        },
        "outputId": "acd839cb-c5e2-4936-b112-5e597a87c5b0"
      },
      "source": [
        "# Drop the 'RowNumber', 'CustomerId', and 'Surname' columns\n",
        "data = data_raw.drop(['RowNumber', 'CustomerId', 'Surname'], axis=1)\n",
        "data.head()"
      ],
      "execution_count": 4,
      "outputs": [
        {
          "output_type": "execute_result",
          "data": {
            "text/html": [
              "<div>\n",
              "<style scoped>\n",
              "    .dataframe tbody tr th:only-of-type {\n",
              "        vertical-align: middle;\n",
              "    }\n",
              "\n",
              "    .dataframe tbody tr th {\n",
              "        vertical-align: top;\n",
              "    }\n",
              "\n",
              "    .dataframe thead th {\n",
              "        text-align: right;\n",
              "    }\n",
              "</style>\n",
              "<table border=\"1\" class=\"dataframe\">\n",
              "  <thead>\n",
              "    <tr style=\"text-align: right;\">\n",
              "      <th></th>\n",
              "      <th>CreditScore</th>\n",
              "      <th>Geography</th>\n",
              "      <th>Gender</th>\n",
              "      <th>Age</th>\n",
              "      <th>Tenure</th>\n",
              "      <th>Balance</th>\n",
              "      <th>NumOfProducts</th>\n",
              "      <th>HasCrCard</th>\n",
              "      <th>IsActiveMember</th>\n",
              "      <th>EstimatedSalary</th>\n",
              "      <th>Exited</th>\n",
              "    </tr>\n",
              "  </thead>\n",
              "  <tbody>\n",
              "    <tr>\n",
              "      <th>0</th>\n",
              "      <td>619</td>\n",
              "      <td>France</td>\n",
              "      <td>Female</td>\n",
              "      <td>42</td>\n",
              "      <td>2</td>\n",
              "      <td>0.00</td>\n",
              "      <td>1</td>\n",
              "      <td>1</td>\n",
              "      <td>1</td>\n",
              "      <td>101348.88</td>\n",
              "      <td>1</td>\n",
              "    </tr>\n",
              "    <tr>\n",
              "      <th>1</th>\n",
              "      <td>608</td>\n",
              "      <td>Spain</td>\n",
              "      <td>Female</td>\n",
              "      <td>41</td>\n",
              "      <td>1</td>\n",
              "      <td>83807.86</td>\n",
              "      <td>1</td>\n",
              "      <td>0</td>\n",
              "      <td>1</td>\n",
              "      <td>112542.58</td>\n",
              "      <td>0</td>\n",
              "    </tr>\n",
              "    <tr>\n",
              "      <th>2</th>\n",
              "      <td>502</td>\n",
              "      <td>France</td>\n",
              "      <td>Female</td>\n",
              "      <td>42</td>\n",
              "      <td>8</td>\n",
              "      <td>159660.80</td>\n",
              "      <td>3</td>\n",
              "      <td>1</td>\n",
              "      <td>0</td>\n",
              "      <td>113931.57</td>\n",
              "      <td>1</td>\n",
              "    </tr>\n",
              "    <tr>\n",
              "      <th>3</th>\n",
              "      <td>699</td>\n",
              "      <td>France</td>\n",
              "      <td>Female</td>\n",
              "      <td>39</td>\n",
              "      <td>1</td>\n",
              "      <td>0.00</td>\n",
              "      <td>2</td>\n",
              "      <td>0</td>\n",
              "      <td>0</td>\n",
              "      <td>93826.63</td>\n",
              "      <td>0</td>\n",
              "    </tr>\n",
              "    <tr>\n",
              "      <th>4</th>\n",
              "      <td>850</td>\n",
              "      <td>Spain</td>\n",
              "      <td>Female</td>\n",
              "      <td>43</td>\n",
              "      <td>2</td>\n",
              "      <td>125510.82</td>\n",
              "      <td>1</td>\n",
              "      <td>1</td>\n",
              "      <td>1</td>\n",
              "      <td>79084.10</td>\n",
              "      <td>0</td>\n",
              "    </tr>\n",
              "  </tbody>\n",
              "</table>\n",
              "</div>"
            ],
            "text/plain": [
              "   CreditScore Geography  Gender  ...  IsActiveMember  EstimatedSalary  Exited\n",
              "0          619    France  Female  ...               1        101348.88       1\n",
              "1          608     Spain  Female  ...               1        112542.58       0\n",
              "2          502    France  Female  ...               0        113931.57       1\n",
              "3          699    France  Female  ...               0         93826.63       0\n",
              "4          850     Spain  Female  ...               1         79084.10       0\n",
              "\n",
              "[5 rows x 11 columns]"
            ]
          },
          "metadata": {
            "tags": []
          },
          "execution_count": 4
        }
      ]
    },
    {
      "cell_type": "markdown",
      "metadata": {
        "id": "34XOnCUcsLx7",
        "colab_type": "text"
      },
      "source": [
        "Next, we can declare the features and label in our dataset. Here, our label (column to predict) is the `Exited` column which contains either 0 (left) or 1 (stayed). All the other columns will be our features."
      ]
    },
    {
      "cell_type": "code",
      "metadata": {
        "id": "gQvZN4rhsBww",
        "colab_type": "code",
        "colab": {}
      },
      "source": [
        "# Declare the features and labels\n",
        "X = data.drop('Exited', axis=1)  # Features\n",
        "y = data['Exited']  # Label"
      ],
      "execution_count": 5,
      "outputs": []
    },
    {
      "cell_type": "markdown",
      "metadata": {
        "id": "2_RwoiAGsycf",
        "colab_type": "text"
      },
      "source": [
        "Now, let's take a look at our features (X) and determine whether we need to further preprocess it or not."
      ]
    },
    {
      "cell_type": "code",
      "metadata": {
        "id": "ic43ijMYsxvL",
        "colab_type": "code",
        "colab": {
          "base_uri": "https://localhost:8080/",
          "height": 202
        },
        "outputId": "d4375dab-167e-4fe6-a5dd-39381380755f"
      },
      "source": [
        "X.head()"
      ],
      "execution_count": 6,
      "outputs": [
        {
          "output_type": "execute_result",
          "data": {
            "text/html": [
              "<div>\n",
              "<style scoped>\n",
              "    .dataframe tbody tr th:only-of-type {\n",
              "        vertical-align: middle;\n",
              "    }\n",
              "\n",
              "    .dataframe tbody tr th {\n",
              "        vertical-align: top;\n",
              "    }\n",
              "\n",
              "    .dataframe thead th {\n",
              "        text-align: right;\n",
              "    }\n",
              "</style>\n",
              "<table border=\"1\" class=\"dataframe\">\n",
              "  <thead>\n",
              "    <tr style=\"text-align: right;\">\n",
              "      <th></th>\n",
              "      <th>CreditScore</th>\n",
              "      <th>Geography</th>\n",
              "      <th>Gender</th>\n",
              "      <th>Age</th>\n",
              "      <th>Tenure</th>\n",
              "      <th>Balance</th>\n",
              "      <th>NumOfProducts</th>\n",
              "      <th>HasCrCard</th>\n",
              "      <th>IsActiveMember</th>\n",
              "      <th>EstimatedSalary</th>\n",
              "    </tr>\n",
              "  </thead>\n",
              "  <tbody>\n",
              "    <tr>\n",
              "      <th>0</th>\n",
              "      <td>619</td>\n",
              "      <td>France</td>\n",
              "      <td>Female</td>\n",
              "      <td>42</td>\n",
              "      <td>2</td>\n",
              "      <td>0.00</td>\n",
              "      <td>1</td>\n",
              "      <td>1</td>\n",
              "      <td>1</td>\n",
              "      <td>101348.88</td>\n",
              "    </tr>\n",
              "    <tr>\n",
              "      <th>1</th>\n",
              "      <td>608</td>\n",
              "      <td>Spain</td>\n",
              "      <td>Female</td>\n",
              "      <td>41</td>\n",
              "      <td>1</td>\n",
              "      <td>83807.86</td>\n",
              "      <td>1</td>\n",
              "      <td>0</td>\n",
              "      <td>1</td>\n",
              "      <td>112542.58</td>\n",
              "    </tr>\n",
              "    <tr>\n",
              "      <th>2</th>\n",
              "      <td>502</td>\n",
              "      <td>France</td>\n",
              "      <td>Female</td>\n",
              "      <td>42</td>\n",
              "      <td>8</td>\n",
              "      <td>159660.80</td>\n",
              "      <td>3</td>\n",
              "      <td>1</td>\n",
              "      <td>0</td>\n",
              "      <td>113931.57</td>\n",
              "    </tr>\n",
              "    <tr>\n",
              "      <th>3</th>\n",
              "      <td>699</td>\n",
              "      <td>France</td>\n",
              "      <td>Female</td>\n",
              "      <td>39</td>\n",
              "      <td>1</td>\n",
              "      <td>0.00</td>\n",
              "      <td>2</td>\n",
              "      <td>0</td>\n",
              "      <td>0</td>\n",
              "      <td>93826.63</td>\n",
              "    </tr>\n",
              "    <tr>\n",
              "      <th>4</th>\n",
              "      <td>850</td>\n",
              "      <td>Spain</td>\n",
              "      <td>Female</td>\n",
              "      <td>43</td>\n",
              "      <td>2</td>\n",
              "      <td>125510.82</td>\n",
              "      <td>1</td>\n",
              "      <td>1</td>\n",
              "      <td>1</td>\n",
              "      <td>79084.10</td>\n",
              "    </tr>\n",
              "  </tbody>\n",
              "</table>\n",
              "</div>"
            ],
            "text/plain": [
              "   CreditScore Geography  Gender  ...  HasCrCard  IsActiveMember  EstimatedSalary\n",
              "0          619    France  Female  ...          1               1        101348.88\n",
              "1          608     Spain  Female  ...          0               1        112542.58\n",
              "2          502    France  Female  ...          1               0        113931.57\n",
              "3          699    France  Female  ...          0               0         93826.63\n",
              "4          850     Spain  Female  ...          1               1         79084.10\n",
              "\n",
              "[5 rows x 10 columns]"
            ]
          },
          "metadata": {
            "tags": []
          },
          "execution_count": 6
        }
      ]
    },
    {
      "cell_type": "markdown",
      "metadata": {
        "id": "-G6MTFB-s__R",
        "colab_type": "text"
      },
      "source": [
        "We notice that we have two columns that contain categorical values: `Geography` and `Gender`. So, we are going to create dummy variables to need to convert those categorical values into numerical values."
      ]
    },
    {
      "cell_type": "code",
      "metadata": {
        "id": "UilFPQets_Vw",
        "colab_type": "code",
        "colab": {
          "base_uri": "https://localhost:8080/",
          "height": 202
        },
        "outputId": "829dfa8c-41e7-4fe5-912c-e794f9c6bf95"
      },
      "source": [
        "# Create dummy variables\n",
        "geo = pd.get_dummies(X['Geography'], drop_first=True)\n",
        "gender = pd.get_dummies(X['Gender'], drop_first=True)\n",
        "\n",
        "# Concatenate the dummy columns\n",
        "X = pd.concat([X, geo, gender], axis=1)\n",
        "\n",
        "# Drop the columns that are no longer required\n",
        "X = X.drop(['Geography', 'Gender'], axis=1)\n",
        "X.head()"
      ],
      "execution_count": 7,
      "outputs": [
        {
          "output_type": "execute_result",
          "data": {
            "text/html": [
              "<div>\n",
              "<style scoped>\n",
              "    .dataframe tbody tr th:only-of-type {\n",
              "        vertical-align: middle;\n",
              "    }\n",
              "\n",
              "    .dataframe tbody tr th {\n",
              "        vertical-align: top;\n",
              "    }\n",
              "\n",
              "    .dataframe thead th {\n",
              "        text-align: right;\n",
              "    }\n",
              "</style>\n",
              "<table border=\"1\" class=\"dataframe\">\n",
              "  <thead>\n",
              "    <tr style=\"text-align: right;\">\n",
              "      <th></th>\n",
              "      <th>CreditScore</th>\n",
              "      <th>Age</th>\n",
              "      <th>Tenure</th>\n",
              "      <th>Balance</th>\n",
              "      <th>NumOfProducts</th>\n",
              "      <th>HasCrCard</th>\n",
              "      <th>IsActiveMember</th>\n",
              "      <th>EstimatedSalary</th>\n",
              "      <th>Germany</th>\n",
              "      <th>Spain</th>\n",
              "      <th>Male</th>\n",
              "    </tr>\n",
              "  </thead>\n",
              "  <tbody>\n",
              "    <tr>\n",
              "      <th>0</th>\n",
              "      <td>619</td>\n",
              "      <td>42</td>\n",
              "      <td>2</td>\n",
              "      <td>0.00</td>\n",
              "      <td>1</td>\n",
              "      <td>1</td>\n",
              "      <td>1</td>\n",
              "      <td>101348.88</td>\n",
              "      <td>0</td>\n",
              "      <td>0</td>\n",
              "      <td>0</td>\n",
              "    </tr>\n",
              "    <tr>\n",
              "      <th>1</th>\n",
              "      <td>608</td>\n",
              "      <td>41</td>\n",
              "      <td>1</td>\n",
              "      <td>83807.86</td>\n",
              "      <td>1</td>\n",
              "      <td>0</td>\n",
              "      <td>1</td>\n",
              "      <td>112542.58</td>\n",
              "      <td>0</td>\n",
              "      <td>1</td>\n",
              "      <td>0</td>\n",
              "    </tr>\n",
              "    <tr>\n",
              "      <th>2</th>\n",
              "      <td>502</td>\n",
              "      <td>42</td>\n",
              "      <td>8</td>\n",
              "      <td>159660.80</td>\n",
              "      <td>3</td>\n",
              "      <td>1</td>\n",
              "      <td>0</td>\n",
              "      <td>113931.57</td>\n",
              "      <td>0</td>\n",
              "      <td>0</td>\n",
              "      <td>0</td>\n",
              "    </tr>\n",
              "    <tr>\n",
              "      <th>3</th>\n",
              "      <td>699</td>\n",
              "      <td>39</td>\n",
              "      <td>1</td>\n",
              "      <td>0.00</td>\n",
              "      <td>2</td>\n",
              "      <td>0</td>\n",
              "      <td>0</td>\n",
              "      <td>93826.63</td>\n",
              "      <td>0</td>\n",
              "      <td>0</td>\n",
              "      <td>0</td>\n",
              "    </tr>\n",
              "    <tr>\n",
              "      <th>4</th>\n",
              "      <td>850</td>\n",
              "      <td>43</td>\n",
              "      <td>2</td>\n",
              "      <td>125510.82</td>\n",
              "      <td>1</td>\n",
              "      <td>1</td>\n",
              "      <td>1</td>\n",
              "      <td>79084.10</td>\n",
              "      <td>0</td>\n",
              "      <td>1</td>\n",
              "      <td>0</td>\n",
              "    </tr>\n",
              "  </tbody>\n",
              "</table>\n",
              "</div>"
            ],
            "text/plain": [
              "   CreditScore  Age  Tenure    Balance  ...  EstimatedSalary  Germany  Spain  Male\n",
              "0          619   42       2       0.00  ...        101348.88        0      0     0\n",
              "1          608   41       1   83807.86  ...        112542.58        0      1     0\n",
              "2          502   42       8  159660.80  ...        113931.57        0      0     0\n",
              "3          699   39       1       0.00  ...         93826.63        0      0     0\n",
              "4          850   43       2  125510.82  ...         79084.10        0      1     0\n",
              "\n",
              "[5 rows x 11 columns]"
            ]
          },
          "metadata": {
            "tags": []
          },
          "execution_count": 7
        }
      ]
    },
    {
      "cell_type": "markdown",
      "metadata": {
        "id": "LpFhg-yUulZH",
        "colab_type": "text"
      },
      "source": [
        "Now, we can split our data into training and test sets. Following the Pareto principle, we are going to split the data with a ratio of 80:20."
      ]
    },
    {
      "cell_type": "code",
      "metadata": {
        "id": "2-b0NhDzvVtx",
        "colab_type": "code",
        "colab": {}
      },
      "source": [
        "# Split the data\n",
        "X_train, X_test, y_train, y_test = train_test_split(X, y, test_size=0.2, random_state=1)"
      ],
      "execution_count": 8,
      "outputs": []
    },
    {
      "cell_type": "markdown",
      "metadata": {
        "id": "3Krtc45Lvs4_",
        "colab_type": "text"
      },
      "source": [
        "One last step is we need to do feature scaling on our data before building our model. To avoid any data leakage, we will fit the scaler on our training set only, then standardise the test set with that scaler."
      ]
    },
    {
      "cell_type": "code",
      "metadata": {
        "id": "IcjsUT8bvl8Y",
        "colab_type": "code",
        "colab": {}
      },
      "source": [
        "# Scale our data\n",
        "scaler = StandardScaler()\n",
        "X_train = scaler.fit_transform(X_train)\n",
        "X_test = scaler.transform(X_test)"
      ],
      "execution_count": 9,
      "outputs": []
    },
    {
      "cell_type": "markdown",
      "metadata": {
        "id": "6PFhM5l_weqG",
        "colab_type": "text"
      },
      "source": [
        "## Building our Model\n",
        "After cleaning and preprocessing our data, we are now ready to build our ANN model. Our data will consist of 2 dense (fully-connected) layers with ReLu activation functions and another 1 dense layer as our output layer with Sigmoid activation function."
      ]
    },
    {
      "cell_type": "code",
      "metadata": {
        "id": "8SZ_Mpxyw-9j",
        "colab_type": "code",
        "colab": {}
      },
      "source": [
        "# Build the model\n",
        "model = Sequential()\n",
        "model.add(Dense(input_dim=11, units=6, activation='relu'))\n",
        "model.add(Dense(units=6, activation='relu', name='hid'))\n",
        "model.add(Dense(units=1, activation='sigmoid'))"
      ],
      "execution_count": 10,
      "outputs": []
    },
    {
      "cell_type": "code",
      "metadata": {
        "id": "rTNm9B40xkEq",
        "colab_type": "code",
        "colab": {
          "base_uri": "https://localhost:8080/",
          "height": 260
        },
        "outputId": "1b5baa6c-0f00-48e7-bce0-1f778eba8eda"
      },
      "source": [
        "# Get the architecture of our model\n",
        "model.summary()"
      ],
      "execution_count": 11,
      "outputs": [
        {
          "output_type": "stream",
          "text": [
            "Model: \"sequential_1\"\n",
            "_________________________________________________________________\n",
            "Layer (type)                 Output Shape              Param #   \n",
            "=================================================================\n",
            "dense_1 (Dense)              (None, 6)                 72        \n",
            "_________________________________________________________________\n",
            "hid (Dense)                  (None, 6)                 42        \n",
            "_________________________________________________________________\n",
            "dense_2 (Dense)              (None, 1)                 7         \n",
            "=================================================================\n",
            "Total params: 121\n",
            "Trainable params: 121\n",
            "Non-trainable params: 0\n",
            "_________________________________________________________________\n"
          ],
          "name": "stdout"
        }
      ]
    },
    {
      "cell_type": "markdown",
      "metadata": {
        "id": "FYhK3eWby1KI",
        "colab_type": "text"
      },
      "source": [
        "Before training the model, we need to compile the model with the following settings:\n",
        "\n",
        "- Loss function: This measures how accurate the model is during training. For the loss function, we are going to use the binary cross entropy.\n",
        "- Optimizer: This is how the model is updated based on the data it sees and its loss function. We are going to use Adam, which is an optimization algorithm based on adaptive estimation of first-order and second-order moments.\n",
        "- Metrics: Used to monitor the training and testing steps. Here we will use accuracy, the fraction of the images that are correctly classified."
      ]
    },
    {
      "cell_type": "code",
      "metadata": {
        "id": "7qWKd6B6xgq-",
        "colab_type": "code",
        "colab": {}
      },
      "source": [
        "# Compile the model\n",
        "model.compile(optimizer = 'adam', loss = 'binary_crossentropy', metrics = ['accuracy'])"
      ],
      "execution_count": 12,
      "outputs": []
    },
    {
      "cell_type": "markdown",
      "metadata": {
        "id": "E805Cn5WzJ38",
        "colab_type": "text"
      },
      "source": [
        "Finally, we can fit the training set to our model."
      ]
    },
    {
      "cell_type": "code",
      "metadata": {
        "id": "sFHC6cgqzOji",
        "colab_type": "code",
        "colab": {
          "base_uri": "https://localhost:8080/",
          "height": 1000
        },
        "outputId": "ba9557ee-40b3-4321-d218-99b4c4e79e76"
      },
      "source": [
        "# Fit the model\n",
        "history = model.fit(X_train, y_train, batch_size=10, epochs=100)"
      ],
      "execution_count": 13,
      "outputs": [
        {
          "output_type": "stream",
          "text": [
            "Epoch 1/100\n",
            "8000/8000 [==============================] - 1s 126us/step - loss: 0.5324 - accuracy: 0.7843\n",
            "Epoch 2/100\n",
            "8000/8000 [==============================] - 1s 111us/step - loss: 0.4420 - accuracy: 0.8105\n",
            "Epoch 3/100\n",
            "8000/8000 [==============================] - 1s 111us/step - loss: 0.4269 - accuracy: 0.8167\n",
            "Epoch 4/100\n",
            "8000/8000 [==============================] - 1s 111us/step - loss: 0.4220 - accuracy: 0.8198\n",
            "Epoch 5/100\n",
            "8000/8000 [==============================] - 1s 113us/step - loss: 0.4184 - accuracy: 0.8224\n",
            "Epoch 6/100\n",
            "8000/8000 [==============================] - 1s 110us/step - loss: 0.4152 - accuracy: 0.8270\n",
            "Epoch 7/100\n",
            "8000/8000 [==============================] - 1s 109us/step - loss: 0.4125 - accuracy: 0.8261\n",
            "Epoch 8/100\n",
            "8000/8000 [==============================] - 1s 107us/step - loss: 0.4113 - accuracy: 0.8304\n",
            "Epoch 9/100\n",
            "8000/8000 [==============================] - 1s 120us/step - loss: 0.4095 - accuracy: 0.8299\n",
            "Epoch 10/100\n",
            "8000/8000 [==============================] - 1s 112us/step - loss: 0.4078 - accuracy: 0.8326\n",
            "Epoch 11/100\n",
            "8000/8000 [==============================] - 1s 110us/step - loss: 0.4060 - accuracy: 0.8313\n",
            "Epoch 12/100\n",
            "8000/8000 [==============================] - 1s 115us/step - loss: 0.4039 - accuracy: 0.8335\n",
            "Epoch 13/100\n",
            "8000/8000 [==============================] - 1s 107us/step - loss: 0.4014 - accuracy: 0.8351\n",
            "Epoch 14/100\n",
            "8000/8000 [==============================] - 1s 120us/step - loss: 0.3979 - accuracy: 0.8347\n",
            "Epoch 15/100\n",
            "8000/8000 [==============================] - 1s 108us/step - loss: 0.3938 - accuracy: 0.8338\n",
            "Epoch 16/100\n",
            "8000/8000 [==============================] - 1s 106us/step - loss: 0.3890 - accuracy: 0.8345\n",
            "Epoch 17/100\n",
            "8000/8000 [==============================] - 1s 105us/step - loss: 0.3843 - accuracy: 0.8342\n",
            "Epoch 18/100\n",
            "8000/8000 [==============================] - 1s 110us/step - loss: 0.3798 - accuracy: 0.8338\n",
            "Epoch 19/100\n",
            "8000/8000 [==============================] - 1s 106us/step - loss: 0.3757 - accuracy: 0.8341\n",
            "Epoch 20/100\n",
            "8000/8000 [==============================] - 1s 109us/step - loss: 0.3727 - accuracy: 0.8367\n",
            "Epoch 21/100\n",
            "8000/8000 [==============================] - 1s 105us/step - loss: 0.3695 - accuracy: 0.8455\n",
            "Epoch 22/100\n",
            "8000/8000 [==============================] - 1s 113us/step - loss: 0.3670 - accuracy: 0.8475\n",
            "Epoch 23/100\n",
            "8000/8000 [==============================] - 1s 106us/step - loss: 0.3650 - accuracy: 0.8495\n",
            "Epoch 24/100\n",
            "8000/8000 [==============================] - 1s 109us/step - loss: 0.3632 - accuracy: 0.8522\n",
            "Epoch 25/100\n",
            "8000/8000 [==============================] - 1s 115us/step - loss: 0.3615 - accuracy: 0.8528\n",
            "Epoch 26/100\n",
            "8000/8000 [==============================] - 1s 111us/step - loss: 0.3609 - accuracy: 0.8508\n",
            "Epoch 27/100\n",
            "8000/8000 [==============================] - 1s 111us/step - loss: 0.3591 - accuracy: 0.8530\n",
            "Epoch 28/100\n",
            "8000/8000 [==============================] - 1s 107us/step - loss: 0.3574 - accuracy: 0.8543\n",
            "Epoch 29/100\n",
            "8000/8000 [==============================] - 1s 107us/step - loss: 0.3544 - accuracy: 0.8551\n",
            "Epoch 30/100\n",
            "8000/8000 [==============================] - 1s 107us/step - loss: 0.3525 - accuracy: 0.8571\n",
            "Epoch 31/100\n",
            "8000/8000 [==============================] - 1s 107us/step - loss: 0.3489 - accuracy: 0.8562\n",
            "Epoch 32/100\n",
            "8000/8000 [==============================] - 1s 107us/step - loss: 0.3458 - accuracy: 0.8579\n",
            "Epoch 33/100\n",
            "8000/8000 [==============================] - 1s 111us/step - loss: 0.3438 - accuracy: 0.8570\n",
            "Epoch 34/100\n",
            "8000/8000 [==============================] - 1s 109us/step - loss: 0.3421 - accuracy: 0.8600\n",
            "Epoch 35/100\n",
            "8000/8000 [==============================] - 1s 109us/step - loss: 0.3418 - accuracy: 0.8608\n",
            "Epoch 36/100\n",
            "8000/8000 [==============================] - 1s 107us/step - loss: 0.3403 - accuracy: 0.8612\n",
            "Epoch 37/100\n",
            "8000/8000 [==============================] - 1s 104us/step - loss: 0.3398 - accuracy: 0.8599\n",
            "Epoch 38/100\n",
            "8000/8000 [==============================] - 1s 110us/step - loss: 0.3392 - accuracy: 0.8602\n",
            "Epoch 39/100\n",
            "8000/8000 [==============================] - 1s 107us/step - loss: 0.3383 - accuracy: 0.8620\n",
            "Epoch 40/100\n",
            "8000/8000 [==============================] - 1s 111us/step - loss: 0.3384 - accuracy: 0.8605\n",
            "Epoch 41/100\n",
            "8000/8000 [==============================] - 1s 113us/step - loss: 0.3376 - accuracy: 0.8597\n",
            "Epoch 42/100\n",
            "8000/8000 [==============================] - 1s 108us/step - loss: 0.3374 - accuracy: 0.8614\n",
            "Epoch 43/100\n",
            "8000/8000 [==============================] - 1s 107us/step - loss: 0.3379 - accuracy: 0.8602\n",
            "Epoch 44/100\n",
            "8000/8000 [==============================] - 1s 108us/step - loss: 0.3364 - accuracy: 0.8604\n",
            "Epoch 45/100\n",
            "8000/8000 [==============================] - 1s 105us/step - loss: 0.3370 - accuracy: 0.8601\n",
            "Epoch 46/100\n",
            "8000/8000 [==============================] - 1s 106us/step - loss: 0.3357 - accuracy: 0.8614\n",
            "Epoch 47/100\n",
            "8000/8000 [==============================] - 1s 105us/step - loss: 0.3365 - accuracy: 0.8601\n",
            "Epoch 48/100\n",
            "8000/8000 [==============================] - 1s 106us/step - loss: 0.3361 - accuracy: 0.8610\n",
            "Epoch 49/100\n",
            "8000/8000 [==============================] - 1s 112us/step - loss: 0.3361 - accuracy: 0.8610\n",
            "Epoch 50/100\n",
            "8000/8000 [==============================] - 1s 109us/step - loss: 0.3361 - accuracy: 0.8599\n",
            "Epoch 51/100\n",
            "8000/8000 [==============================] - 1s 109us/step - loss: 0.3356 - accuracy: 0.8594\n",
            "Epoch 52/100\n",
            "8000/8000 [==============================] - 1s 110us/step - loss: 0.3354 - accuracy: 0.8601\n",
            "Epoch 53/100\n",
            "8000/8000 [==============================] - 1s 115us/step - loss: 0.3357 - accuracy: 0.8594\n",
            "Epoch 54/100\n",
            "8000/8000 [==============================] - 1s 110us/step - loss: 0.3350 - accuracy: 0.8594\n",
            "Epoch 55/100\n",
            "8000/8000 [==============================] - 1s 111us/step - loss: 0.3347 - accuracy: 0.8616\n",
            "Epoch 56/100\n",
            "8000/8000 [==============================] - 1s 107us/step - loss: 0.3350 - accuracy: 0.8602\n",
            "Epoch 57/100\n",
            "8000/8000 [==============================] - 1s 104us/step - loss: 0.3341 - accuracy: 0.8608\n",
            "Epoch 58/100\n",
            "8000/8000 [==============================] - 1s 108us/step - loss: 0.3336 - accuracy: 0.8614\n",
            "Epoch 59/100\n",
            "8000/8000 [==============================] - 1s 114us/step - loss: 0.3340 - accuracy: 0.8601\n",
            "Epoch 60/100\n",
            "8000/8000 [==============================] - 1s 110us/step - loss: 0.3332 - accuracy: 0.8621\n",
            "Epoch 61/100\n",
            "8000/8000 [==============================] - 1s 111us/step - loss: 0.3339 - accuracy: 0.8616\n",
            "Epoch 62/100\n",
            "8000/8000 [==============================] - 1s 108us/step - loss: 0.3332 - accuracy: 0.8600\n",
            "Epoch 63/100\n",
            "8000/8000 [==============================] - 1s 111us/step - loss: 0.3325 - accuracy: 0.8643\n",
            "Epoch 64/100\n",
            "8000/8000 [==============================] - 1s 107us/step - loss: 0.3335 - accuracy: 0.8614\n",
            "Epoch 65/100\n",
            "8000/8000 [==============================] - 1s 112us/step - loss: 0.3330 - accuracy: 0.8622\n",
            "Epoch 66/100\n",
            "8000/8000 [==============================] - 1s 110us/step - loss: 0.3330 - accuracy: 0.8605\n",
            "Epoch 67/100\n",
            "8000/8000 [==============================] - 1s 109us/step - loss: 0.3327 - accuracy: 0.8614\n",
            "Epoch 68/100\n",
            "8000/8000 [==============================] - 1s 105us/step - loss: 0.3328 - accuracy: 0.8622\n",
            "Epoch 69/100\n",
            "8000/8000 [==============================] - 1s 114us/step - loss: 0.3326 - accuracy: 0.8629\n",
            "Epoch 70/100\n",
            "8000/8000 [==============================] - 1s 113us/step - loss: 0.3326 - accuracy: 0.8594\n",
            "Epoch 71/100\n",
            "8000/8000 [==============================] - 1s 110us/step - loss: 0.3329 - accuracy: 0.8609\n",
            "Epoch 72/100\n",
            "8000/8000 [==============================] - 1s 109us/step - loss: 0.3327 - accuracy: 0.8614\n",
            "Epoch 73/100\n",
            "8000/8000 [==============================] - 1s 109us/step - loss: 0.3330 - accuracy: 0.8610\n",
            "Epoch 74/100\n",
            "8000/8000 [==============================] - 1s 114us/step - loss: 0.3326 - accuracy: 0.8612\n",
            "Epoch 75/100\n",
            "8000/8000 [==============================] - 1s 107us/step - loss: 0.3327 - accuracy: 0.8610\n",
            "Epoch 76/100\n",
            "8000/8000 [==============================] - 1s 110us/step - loss: 0.3320 - accuracy: 0.8636\n",
            "Epoch 77/100\n",
            "8000/8000 [==============================] - 1s 110us/step - loss: 0.3318 - accuracy: 0.8615\n",
            "Epoch 78/100\n",
            "8000/8000 [==============================] - 1s 106us/step - loss: 0.3330 - accuracy: 0.8610\n",
            "Epoch 79/100\n",
            "8000/8000 [==============================] - 1s 110us/step - loss: 0.3319 - accuracy: 0.8615\n",
            "Epoch 80/100\n",
            "8000/8000 [==============================] - 1s 110us/step - loss: 0.3321 - accuracy: 0.8630\n",
            "Epoch 81/100\n",
            "8000/8000 [==============================] - 1s 105us/step - loss: 0.3320 - accuracy: 0.8629\n",
            "Epoch 82/100\n",
            "8000/8000 [==============================] - 1s 105us/step - loss: 0.3318 - accuracy: 0.8601\n",
            "Epoch 83/100\n",
            "8000/8000 [==============================] - 1s 109us/step - loss: 0.3318 - accuracy: 0.8611\n",
            "Epoch 84/100\n",
            "8000/8000 [==============================] - 1s 106us/step - loss: 0.3324 - accuracy: 0.8619\n",
            "Epoch 85/100\n",
            "8000/8000 [==============================] - 1s 112us/step - loss: 0.3319 - accuracy: 0.8610\n",
            "Epoch 86/100\n",
            "8000/8000 [==============================] - 1s 107us/step - loss: 0.3324 - accuracy: 0.8616\n",
            "Epoch 87/100\n",
            "8000/8000 [==============================] - 1s 103us/step - loss: 0.3311 - accuracy: 0.8637\n",
            "Epoch 88/100\n",
            "8000/8000 [==============================] - 1s 106us/step - loss: 0.3309 - accuracy: 0.8630\n",
            "Epoch 89/100\n",
            "8000/8000 [==============================] - 1s 111us/step - loss: 0.3317 - accuracy: 0.8630\n",
            "Epoch 90/100\n",
            "8000/8000 [==============================] - 1s 112us/step - loss: 0.3321 - accuracy: 0.8619\n",
            "Epoch 91/100\n",
            "8000/8000 [==============================] - 1s 113us/step - loss: 0.3317 - accuracy: 0.8635\n",
            "Epoch 92/100\n",
            "8000/8000 [==============================] - 1s 107us/step - loss: 0.3318 - accuracy: 0.8615\n",
            "Epoch 93/100\n",
            "8000/8000 [==============================] - 1s 117us/step - loss: 0.3310 - accuracy: 0.8631\n",
            "Epoch 94/100\n",
            "8000/8000 [==============================] - 1s 120us/step - loss: 0.3316 - accuracy: 0.8629\n",
            "Epoch 95/100\n",
            "8000/8000 [==============================] - 1s 110us/step - loss: 0.3312 - accuracy: 0.8633\n",
            "Epoch 96/100\n",
            "8000/8000 [==============================] - 1s 113us/step - loss: 0.3310 - accuracy: 0.8639\n",
            "Epoch 97/100\n",
            "8000/8000 [==============================] - 1s 115us/step - loss: 0.3318 - accuracy: 0.8625\n",
            "Epoch 98/100\n",
            "8000/8000 [==============================] - 1s 119us/step - loss: 0.3315 - accuracy: 0.8630\n",
            "Epoch 99/100\n",
            "8000/8000 [==============================] - 1s 112us/step - loss: 0.3318 - accuracy: 0.8610\n",
            "Epoch 100/100\n",
            "8000/8000 [==============================] - 1s 106us/step - loss: 0.3308 - accuracy: 0.8614\n"
          ],
          "name": "stdout"
        }
      ]
    },
    {
      "cell_type": "markdown",
      "metadata": {
        "id": "fuK8CPCqzNjP",
        "colab_type": "text"
      },
      "source": [
        "As the model trains, the loss and accuracy metrics are displayed. This model reaches an accuracy of about 0.86 (or 86%) on the training set. We can also visualize the plot for the loss for each epoch."
      ]
    },
    {
      "cell_type": "code",
      "metadata": {
        "id": "3Csow4f1z-dW",
        "colab_type": "code",
        "colab": {
          "base_uri": "https://localhost:8080/",
          "height": 279
        },
        "outputId": "21961a6c-fe74-415a-c9de-3d167bb9ebab"
      },
      "source": [
        "# Visualize the loss for each epoch\n",
        "plt.plot(history.history['loss'])\n",
        "plt.xlabel('Epochs')\n",
        "plt.ylabel('Loss')\n",
        "plt.show()"
      ],
      "execution_count": 14,
      "outputs": [
        {
          "output_type": "display_data",
          "data": {
            "image/png": "[encoded data removed]",
            "text/plain": [
              "<Figure size 432x288 with 1 Axes>"
            ]
          },
          "metadata": {
            "tags": [],
            "needs_background": "light"
          }
        }
      ]
    },
    {
      "cell_type": "markdown",
      "metadata": {
        "id": "VqI-YY_6z--T",
        "colab_type": "text"
      },
      "source": [
        "With the model trained, we can now use it to make predictions."
      ]
    },
    {
      "cell_type": "code",
      "metadata": {
        "id": "4ZzThOm_0G5-",
        "colab_type": "code",
        "colab": {}
      },
      "source": [
        "# Make predictions\n",
        "y_pred = model.predict(X_test)\n",
        "\n",
        "# Convert into Boolean values\n",
        "y_pred = y_pred > 0.5"
      ],
      "execution_count": 15,
      "outputs": []
    },
    {
      "cell_type": "markdown",
      "metadata": {
        "id": "pmICOAX21ECF",
        "colab_type": "text"
      },
      "source": [
        "## Evaluating the Model\n",
        "Lastly, let's evaluate our model on the test set.\n"
      ]
    },
    {
      "cell_type": "code",
      "metadata": {
        "id": "Vm0qt0eg1AGM",
        "colab_type": "code",
        "colab": {
          "base_uri": "https://localhost:8080/",
          "height": 69
        },
        "outputId": "d2954d7c-f8e8-4c13-ac81-4524a3b31e55"
      },
      "source": [
        "# Evaluate the model\n",
        "test_loss, test_acc = model.evaluate(X_test, y_test)\n",
        "print(f'The loss on the test set is: {test_loss}')\n",
        "print(f'The accuracy on the test set is: {test_acc}')"
      ],
      "execution_count": 16,
      "outputs": [
        {
          "output_type": "stream",
          "text": [
            "2000/2000 [==============================] - 0s 25us/step\n",
            "The loss on the test set is: 0.3315143666267395\n",
            "The accuracy on the test set is: 0.8640000224113464\n"
          ],
          "name": "stdout"
        }
      ]
    },
    {
      "cell_type": "markdown",
      "metadata": {
        "id": "GXhGYZfM1gpE",
        "colab_type": "text"
      },
      "source": [
        "It turns out that the accuracy on the test dataset is a slightly higher than the accuracy on the training data. As another evaluation metric, we can create a confusion matrix to further examine our model's performace."
      ]
    },
    {
      "cell_type": "code",
      "metadata": {
        "id": "5y68yZf91ho8",
        "colab_type": "code",
        "colab": {
          "base_uri": "https://localhost:8080/",
          "height": 279
        },
        "outputId": "4de15558-b278-4c35-e03f-aa17ed1720aa"
      },
      "source": [
        "# Create the confusion matrix\n",
        "cm = confusion_matrix(y_test, y_pred)\n",
        "\n",
        "# Visualize the confusion matrix\n",
        "sns.heatmap(cm, annot=True)\n",
        "plt.xlabel('Predicted')\n",
        "plt.ylabel('Actual')\n",
        "plt.show()"
      ],
      "execution_count": 17,
      "outputs": [
        {
          "output_type": "display_data",
          "data": {
            "image/png": "[encoded data removed]",
            "text/plain": [
              "<Figure size 432x288 with 2 Axes>"
            ]
          },
          "metadata": {
            "tags": [],
            "needs_background": "light"
          }
        }
      ]
    },
    {
      "cell_type": "markdown",
      "metadata": {
        "id": "kPvBd2Sj4xk4",
        "colab_type": "text"
      },
      "source": [
        "We can observe that our model is pretty good at classifying 0 values (customers leaving the bank) but not that good in the case where the values are 1 (customers that are actually staying). This is probably due to the imbalance amount of label in our data where our data contains a lot more 0 values than the 1 values."
      ]
    }
  ]
}