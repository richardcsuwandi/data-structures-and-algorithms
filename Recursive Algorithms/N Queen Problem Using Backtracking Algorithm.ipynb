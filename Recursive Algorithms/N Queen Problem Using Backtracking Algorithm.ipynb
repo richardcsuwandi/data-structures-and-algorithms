{
 "cells": [
  {
   "cell_type": "markdown",
   "metadata": {},
   "source": [
    "# N Queen Problem Using Backtracking Algorithm\n",
    "The goal of this program is to create Python program to display one solution of the N Queen Problem using backtracking algorithm."
   ]
  },
  {
   "cell_type": "markdown",
   "metadata": {},
   "source": [
    "## Overview"
   ]
  },
  {
   "cell_type": "markdown",
   "metadata": {},
   "source": [
    "### N Queen Problem"
   ]
  },
  {
   "cell_type": "markdown",
   "metadata": {},
   "source": [
    "The N Queen problem is a puzzle of placing N chess queens on an N×N chessboard so that no two queens attack each other. The solutions to this problem exist for all natural numbers N except for N = 2 and N = 3. For example, the following is a solution for the 8 Queen problem."
   ]
  },
  {
   "cell_type": "markdown",
   "metadata": {},
   "source": [
    "![N Queen Problem](https://github.com/richardcsuwandi/my-portfolio/blob/master/images/n-queen-problem.png?raw=true)"
   ]
  },
  {
   "cell_type": "markdown",
   "metadata": {},
   "source": [
    "### Backtracking Algorithm"
   ]
  },
  {
   "cell_type": "markdown",
   "metadata": {},
   "source": [
    "Here's the idea and steps of backtracking algorithm:\n",
    "1. Start in the leftmost column.\n",
    "2. If all queens are placed, return True.\n",
    "3. Try all rows in the current column. Do the following for every tried row,\n",
    "   - If the queen can be placed safely in this row, mark this row and column as part of the solution and recursively check if placing queen here leads to a solution.\n",
    "   - If placing the queen in row, columnleads to a solution, return True.\n",
    "   - If placing queen doesn't lead to a solution then unmark this row, column (backtrack) and try other rows. \n",
    "4. If all rows have been tried and nothing worked, return False to trigger backtracking.\n",
    "\n",
    "More about Backtracking Algorithm: https://see.stanford.edu/materials/icspacs106b/H19-RecBacktrackExamples.pdf"
   ]
  },
  {
   "cell_type": "markdown",
   "metadata": {},
   "source": [
    "## Implementation"
   ]
  },
  {
   "cell_type": "markdown",
   "metadata": {},
   "source": [
    "We will create a NQueen class to implement a solution to the N Queen Problem, the code is as follows:"
   ]
  },
  {
   "cell_type": "code",
   "execution_count": 12,
   "metadata": {},
   "outputs": [],
   "source": [
    "class NQueen():\n",
    "    def __init__(self, N):\n",
    "        self.N = N  # The number of queens\n",
    "        self.board = [[\" \"]*N for i in range(N)]\n",
    "\n",
    "    def display_board(self):\n",
    "        \"\"\"Displays the board when a solution is found\"\"\"\n",
    "        for i in range(self.N):\n",
    "            for j in range(self.N):\n",
    "                if j == self.N - 1:\n",
    "                    print(\"|\" + self.board[i][j] + \"|\")\n",
    "                else:\n",
    "                    print(\"|\" + self.board[i][j], end=\"\")\n",
    "\n",
    "    def row_safe(self, i, j):\n",
    "        \"\"\"Checks if there is no other queen in the same row\"\"\"\n",
    "        a = i # Store the row value\n",
    "        b = j # Store the column value\n",
    "\n",
    "        while b >=0:\n",
    "            if self.board[a][b] == \"Q\":\n",
    "                return False\n",
    "            b -= 1\n",
    "        return True\n",
    "\n",
    "    def diagonal_safe(self, i, j):\n",
    "        \"\"\"Checks if there is no other queen in the same diagonal\"\"\"\n",
    "        a = i # Store the row value\n",
    "        b = j # Store the column value\n",
    "\n",
    "        # Check the up-left diagonal\n",
    "        while (a >= 0 and b >= 0):\n",
    "            if self.board[a][b] == \"Q\":\n",
    "                return False\n",
    "            a -= 1\n",
    "            b -= 1\n",
    "\n",
    "        a = i # Store the row value\n",
    "        b = j # Store the column value\n",
    "\n",
    "        # Check the down-left diagonal\n",
    "        while (a <= self.N - 1 and b >= 0):\n",
    "            if self.board[a][b] == \"Q\":\n",
    "                return False\n",
    "            a += 1\n",
    "            b -= 1\n",
    "\n",
    "        return True\n",
    "\n",
    "    def is_safe(self, i, j):\n",
    "        \"\"\"Checks if the position is safe\"\"\"\n",
    "        if self.row_safe(i,j) == self.diagonal_safe(i, j) == True:\n",
    "            return True\n",
    "        else:\n",
    "            return False\n",
    "\n",
    "    def place_queen(self, board, N, j):\n",
    "        \"\"\"Places the queen on the safe position\"\"\"\n",
    "        # If all the queens are already placed, it will return true indicating that a solution is found\n",
    "        if j >= self.N:\n",
    "            return True\n",
    "\n",
    "        for i in range(self.N):\n",
    "            if self.is_safe(i, j):\n",
    "                board[i][j] = \"Q\" # Place queen on the board if it is safe\n",
    "                if self.place_queen(self.board, self.N, j+1) == True:\n",
    "                    return True\n",
    "                board[i][j] = \" \"\n",
    "        return False\n",
    "\n",
    "    def solve(self):\n",
    "        \"\"\"Finds one solution to the puzzle using the backtracking algorithm\"\"\"\n",
    "        if self.place_queen(self.board, self.N, 0) == True:  # If a solution is found, it will display the board\n",
    "            self.display_board()\n",
    "        else:\n",
    "            print(\"No solution is found\")"
   ]
  },
  {
   "cell_type": "markdown",
   "metadata": {},
   "source": [
    "## Sample Output\n",
    "Here are some sample outputs for solving N Queen Problem using our NQueen class:"
   ]
  },
  {
   "cell_type": "code",
   "execution_count": 14,
   "metadata": {},
   "outputs": [
    {
     "name": "stdout",
     "output_type": "stream",
     "text": [
      "No solution is found\n"
     ]
    }
   ],
   "source": [
    "NQueen(2).solve()"
   ]
  },
  {
   "cell_type": "code",
   "execution_count": 9,
   "metadata": {},
   "outputs": [
    {
     "name": "stdout",
     "output_type": "stream",
     "text": [
      "| | |Q| |\n",
      "|Q| | | |\n",
      "| | | |Q|\n",
      "| |Q| | |\n"
     ]
    }
   ],
   "source": [
    "# For N = 4\n",
    "NQueen(4).solve()"
   ]
  },
  {
   "cell_type": "code",
   "execution_count": 10,
   "metadata": {},
   "outputs": [
    {
     "name": "stdout",
     "output_type": "stream",
     "text": [
      "| | | |Q| | |\n",
      "|Q| | | | | |\n",
      "| | | | |Q| |\n",
      "| |Q| | | | |\n",
      "| | | | | |Q|\n",
      "| | |Q| | | |\n"
     ]
    }
   ],
   "source": [
    "# For N = 6\n",
    "NQueen(6).solve()"
   ]
  },
  {
   "cell_type": "code",
   "execution_count": 11,
   "metadata": {},
   "outputs": [
    {
     "name": "stdout",
     "output_type": "stream",
     "text": [
      "|Q| | | | | | | |\n",
      "| | | | | | |Q| |\n",
      "| | | | |Q| | | |\n",
      "| | | | | | | |Q|\n",
      "| |Q| | | | | | |\n",
      "| | | |Q| | | | |\n",
      "| | | | | |Q| | |\n",
      "| | |Q| | | | | |\n"
     ]
    }
   ],
   "source": [
    "# For N = 8\n",
    "NQueen(8).solve()"
   ]
  }
 ],
 "metadata": {
  "kernelspec": {
   "display_name": "Python 3.7.4 64-bit ('base': conda)",
   "language": "python",
   "name": "python37464bitbasecondae4d1925b83da41c78817766fdb596e37"
  },
  "language_info": {
   "codemirror_mode": {
    "name": "ipython",
    "version": 3
   },
   "file_extension": ".py",
   "mimetype": "text/x-python",
   "name": "python",
   "nbconvert_exporter": "python",
   "pygments_lexer": "ipython3",
   "version": "3.7.7"
  }
 },
 "nbformat": 4,
 "nbformat_minor": 4
}
